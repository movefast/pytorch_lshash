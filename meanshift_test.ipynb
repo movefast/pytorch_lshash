{
 "cells": [
  {
   "cell_type": "code",
   "execution_count": 3,
   "metadata": {
    "collapsed": true
   },
   "outputs": [],
   "source": [
    "%matplotlib inline\n",
    "import math, numpy as np, tensorflow as tf, matplotlib.pyplot as plt, operator\n",
    "from importlib import reload"
   ]
  },
  {
   "cell_type": "code",
   "execution_count": 4,
   "metadata": {
    "collapsed": true
   },
   "outputs": [],
   "source": [
    "import kmeans; reload(kmeans)\n",
    "from kmeans import Kmeans"
   ]
  },
  {
   "cell_type": "code",
   "execution_count": 5,
   "metadata": {
    "collapsed": true
   },
   "outputs": [],
   "source": [
    "n_clusters=6\n",
    "n_samples =25000"
   ]
  },
  {
   "cell_type": "code",
   "execution_count": 6,
   "metadata": {
    "collapsed": true
   },
   "outputs": [],
   "source": [
    "centroids = np.random.uniform(-35, 35, (n_clusters, 2))\n",
    "slices = [np.random.multivariate_normal(centroids[i], np.diag([5., 5.]), n_samples)\n",
    "           for i in range(n_clusters)]\n",
    "data = np.concatenate(slices).astype(np.float32)"
   ]
  },
  {
   "cell_type": "code",
   "execution_count": 7,
   "metadata": {
    "collapsed": false
   },
   "outputs": [
    {
     "data": {
      "image/png": "[encoded data removed]",
      "text/plain": [
       "<matplotlib.figure.Figure at 0x7f005a9ab4a8>"
      ]
     },
     "metadata": {},
     "output_type": "display_data"
    }
   ],
   "source": [
    "kmeans.plot_data(centroids, data, n_samples)"
   ]
  },
  {
   "cell_type": "markdown",
   "metadata": {},
   "source": [
    "# Kmeans"
   ]
  },
  {
   "cell_type": "code",
   "execution_count": 8,
   "metadata": {
    "collapsed": true
   },
   "outputs": [],
   "source": [
    "k = Kmeans(data, n_clusters)"
   ]
  },
  {
   "cell_type": "code",
   "execution_count": 9,
   "metadata": {
    "collapsed": false
   },
   "outputs": [
    {
     "name": "stdout",
     "output_type": "stream",
     "text": [
      "CPU times: user 680 ms, sys: 108 ms, total: 788 ms\n",
      "Wall time: 802 ms\n"
     ]
    }
   ],
   "source": [
    "with tf.Session().as_default():\n",
    "    %time new_centroids = k.run()"
   ]
  },
  {
   "cell_type": "code",
   "execution_count": 10,
   "metadata": {
    "collapsed": false
   },
   "outputs": [
    {
     "data": {
      "image/png": "[encoded data removed]",
      "text/plain": [
       "<matplotlib.figure.Figure at 0x7f00560ccfd0>"
      ]
     },
     "metadata": {},
     "output_type": "display_data"
    }
   ],
   "source": [
    "kmeans.plot_data(new_centroids, data, n_samples)"
   ]
  },
  {
   "cell_type": "markdown",
   "metadata": {
    "collapsed": true
   },
   "source": [
    "# Mean shift with LSH"
   ]
  },
  {
   "cell_type": "code",
   "execution_count": 11,
   "metadata": {
    "collapsed": true
   },
   "outputs": [],
   "source": [
    "def gaussian(d, bw):\n",
    "    return torch.exp(-0.5*((d/bw))**2) / (bw*math.sqrt(2*math.pi))"
   ]
  },
  {
   "cell_type": "code",
   "execution_count": 12,
   "metadata": {
    "collapsed": true
   },
   "outputs": [],
   "source": [
    "def dist_b(a,b):\n",
    "    return torch.sqrt((sub(a.unsqueeze(0),b.unsqueeze(1))**2).sum(2))"
   ]
  },
  {
   "cell_type": "code",
   "execution_count": 13,
   "metadata": {
    "collapsed": true
   },
   "outputs": [],
   "source": [
    "def sum_sqz(a,axis): return a.sum(axis).squeeze(axis)"
   ]
  },
  {
   "cell_type": "code",
   "execution_count": 14,
   "metadata": {
    "collapsed": true
   },
   "outputs": [],
   "source": [
    "import torch\n",
    "from torch_utils import * \n",
    "from pytorch_lshash import PyTorchLSHash\n",
    "\n",
    "def meanshift_lsh(data, bs=500):\n",
    "    n = len(data)\n",
    "    X = torch.FloatTensor(np.copy(data)).cuda()\n",
    "    \n",
    "    for it in range(5):\n",
    "        pylsh = PyTorchLSHash(6, 2)\n",
    "        pylsh.index(X)\n",
    "        for i in range(0,n,bs):\n",
    "            s = slice(i,min(n, i+bs))\n",
    "            candidates = pylsh.query(s, X, bs)\n",
    "            weight = gaussian(dist_b(candidates, X[s]), 2)\n",
    "            num = sum_sqz(mul(weight, candidates), 1)\n",
    "            X[s] = div(num, sum_sqz(weight, 1))\n",
    "    return X"
   ]
  },
  {
   "cell_type": "code",
   "execution_count": 15,
   "metadata": {
    "collapsed": false
   },
   "outputs": [
    {
     "name": "stdout",
     "output_type": "stream",
     "text": [
      "CPU times: user 6.6 s, sys: 944 ms, total: 7.55 s\n",
      "Wall time: 7.54 s\n"
     ]
    }
   ],
   "source": [
    "%time X=meanshift_lsh(data)"
   ]
  },
  {
   "cell_type": "code",
   "execution_count": 16,
   "metadata": {
    "collapsed": false,
    "scrolled": false
   },
   "outputs": [
    {
     "data": {
      "image/png": "[encoded data removed]",
      "text/plain": [
       "<matplotlib.figure.Figure at 0x7f0054109438>"
      ]
     },
     "metadata": {},
     "output_type": "display_data"
    }
   ],
   "source": [
    "kmeans.plot_data(new_centroids, X.cpu().numpy(), n_samples)"
   ]
  },
  {
   "cell_type": "markdown",
   "metadata": {},
   "source": [
    "# Meanshift with random draw"
   ]
  },
  {
   "cell_type": "code",
   "execution_count": 17,
   "metadata": {
    "collapsed": true
   },
   "outputs": [],
   "source": [
    "def meanshift_random(data, bs=500):\n",
    "    n = len(data)\n",
    "    X = torch.FloatTensor(np.copy(data)).cuda()\n",
    "    \n",
    "    for it in range(5):\n",
    "        for i in range(0,n,bs):\n",
    "            s = slice(i,min(n,i+bs))\n",
    "            candidates = X[torch.randperm(len(X))[slice(0,bs)].long().cuda()]\n",
    "            weight = gaussian(dist_b(candidates, X[s]), 2)\n",
    "            num = sum_sqz(mul(weight, candidates), 1)\n",
    "            X[s] = div(num, sum_sqz(weight, 1))\n",
    "    return X"
   ]
  },
  {
   "cell_type": "code",
   "execution_count": 18,
   "metadata": {
    "collapsed": false
   },
   "outputs": [
    {
     "name": "stdout",
     "output_type": "stream",
     "text": [
      "CPU times: user 3.46 s, sys: 8 ms, total: 3.46 s\n",
      "Wall time: 3.46 s\n"
     ]
    }
   ],
   "source": [
    "%time X=meanshift_random(data)"
   ]
  },
  {
   "cell_type": "code",
   "execution_count": 19,
   "metadata": {
    "collapsed": false,
    "scrolled": true
   },
   "outputs": [
    {
     "data": {
      "image/png": "[encoded data removed]",
      "text/plain": [
       "<matplotlib.figure.Figure at 0x7f002c6afc18>"
      ]
     },
     "metadata": {},
     "output_type": "display_data"
    }
   ],
   "source": [
    "kmeans.plot_data(new_centroids, X.cpu().numpy(), n_samples)"
   ]
  },
  {
   "cell_type": "markdown",
   "metadata": {
    "collapsed": true
   },
   "source": [
    "# Comparison in Convergence "
   ]
  },
  {
   "cell_type": "code",
   "execution_count": null,
   "metadata": {
    "collapsed": false
   },
   "outputs": [],
   "source": [
    "def meanshift_lsh_record_conv(data, bs=500):\n",
    "    n = len(data)\n",
    "    X = torch.FloatTensor(np.copy(data)).cuda()\n",
    "    conv = []\n",
    "    \n",
    "    for it in range(10):\n",
    "        pylsh = PyTorchLSHash(6, 2)\n",
    "        pylsh.index(X)\n",
    "        Y = torch.zeros(X.size()).cuda()\n",
    "        for i in range(0,n,bs):\n",
    "            s = slice(i,min(n, i+bs))\n",
    "            candidates = pylsh.query(s, X, bs)\n",
    "            weight = gaussian(dist_b(candidates, X[s]), 2)\n",
    "            num = sum_sqz(mul(weight, candidates), 1)\n",
    "            Y[s] = div(num, sum_sqz(weight, 1))\n",
    "        conv.append(torch.sqrt(((Y-X)**2).sum(1)).sum())\n",
    "        X = Y\n",
    "    return X, conv\n",
    "\n",
    "\n",
    "def meanshift_random_record_conv(data, bs=500):\n",
    "    n = len(data)\n",
    "    X = torch.FloatTensor(np.copy(data)).cuda()\n",
    "    conv = []\n",
    "    \n",
    "    for it in range(5):\n",
    "        Y = torch.zeros(X.size()).cuda()\n",
    "        for i in range(0,n,bs):\n",
    "            s = slice(i,min(n,i+bs))\n",
    "            candidates = X[torch.randperm(len(X))[slice(0,bs)].long().cuda()]\n",
    "            weight = gaussian(dist_b(candidates, X[s]), 2)\n",
    "            num = sum_sqz(mul(weight, candidates), 1)\n",
    "            Y[s] = div(num, sum_sqz(weight, 1))\n",
    "        conv.append(torch.sqrt(((Y-X)**2).sum(1)).sum())\n",
    "        X = Y\n",
    "    return X, conv\n",
    "\n",
    "\n",
    "def plot_convergence():\n",
    "    X1, conv1 = meanshift_lsh_record_conv(data)\n",
    "    X2, conv2 = meanshift_random_record_conv(data)\n",
    "    colour = plt.cm.rainbow(np.linspace(0,1,len(centroids)))\n",
    "    fig = plt.figure(figsize=(10, 6))\n",
    "    ax = fig.add_subplot(1, 1, 1)\n",
    "    plt.plot(conv1,  label='LSH approximation')\n",
    "    plt.plot(conv2,'g--', label='random draw')\n",
    "    ax.set_title('Convergence Rate', size=20)\n",
    "    ax.set_xlabel('Iteration', size=16)\n",
    "    plt.legend(loc=\"best\")\n",
    "    \n",
    "plot_convergence()"
   ]
  },
  {
   "cell_type": "code",
   "execution_count": null,
   "metadata": {
    "collapsed": true
   },
   "outputs": [],
   "source": []
  }
 ],
 "metadata": {
  "kernelspec": {
   "display_name": "Python 3",
   "language": "python",
   "name": "python3"
  },
  "language_info": {
   "codemirror_mode": {
    "name": "ipython",
    "version": 3
   },
   "file_extension": ".py",
   "mimetype": "text/x-python",
   "name": "python",
   "nbconvert_exporter": "python",
   "pygments_lexer": "ipython3",
   "version": "3.6.0"
  }
 },
 "nbformat": 4,
 "nbformat_minor": 2
}
